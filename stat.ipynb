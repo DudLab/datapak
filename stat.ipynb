{
 "cells": [
  {
   "cell_type": "code",
   "execution_count": 1,
   "metadata": {
    "collapsed": false
   },
   "outputs": [],
   "source": [
    "%matplotlib notebook"
   ]
  },
  {
   "cell_type": "code",
   "execution_count": 3,
   "metadata": {
    "collapsed": false
   },
   "outputs": [],
   "source": [
    "import matplotlib as plot\n",
    "import numpy as np\n",
    "import pandas as pd\n",
    "import os as os\n",
    "import glob\n"
   ]
  },
  {
   "cell_type": "code",
   "execution_count": 7,
   "metadata": {
    "collapsed": false
   },
   "outputs": [
    {
     "ename": "TypeError",
     "evalue": "unsupported operand type(s) for %: 'NoneType' and 'int'",
     "output_type": "error",
     "traceback": [
      "\u001b[0;31m---------------------------------------------------------------------------\u001b[0m",
      "\u001b[0;31mTypeError\u001b[0m                                 Traceback (most recent call last)",
      "\u001b[0;32m<ipython-input-7-cced6d9f1beb>\u001b[0m in \u001b[0;36m<module>\u001b[0;34m()\u001b[0m\n\u001b[1;32m      2\u001b[0m \u001b[0mpaths\u001b[0m \u001b[0;34m=\u001b[0m \u001b[0;34m[\u001b[0m\u001b[0;34m]\u001b[0m\u001b[0;34m\u001b[0m\u001b[0m\n\u001b[1;32m      3\u001b[0m \u001b[0;32mfor\u001b[0m \u001b[0mk\u001b[0m \u001b[0;32min\u001b[0m \u001b[0mrange\u001b[0m\u001b[0;34m(\u001b[0m\u001b[0;36m1\u001b[0m\u001b[0;34m,\u001b[0m\u001b[0;36m3\u001b[0m\u001b[0;34m)\u001b[0m\u001b[0;34m:\u001b[0m\u001b[0;34m\u001b[0m\u001b[0m\n\u001b[0;32m----> 4\u001b[0;31m     \u001b[0mpaths\u001b[0m\u001b[0;34m.\u001b[0m\u001b[0mappend\u001b[0m\u001b[0;34m(\u001b[0m\u001b[0;34m\"/Users/hwab/Dropbox (HHMI)/2015-16 experiment/task%/DataBuffer/trialdata/\"\u001b[0m\u001b[0;34m)\u001b[0m \u001b[0;34m%\u001b[0m \u001b[0;34m(\u001b[0m\u001b[0mk\u001b[0m\u001b[0;34m)\u001b[0m\u001b[0;34m\u001b[0m\u001b[0m\n\u001b[0m\u001b[1;32m      5\u001b[0m \u001b[0mpath\u001b[0m \u001b[0;34m=\u001b[0m \u001b[0;34m\"/Users/hwab/Dropbox (HHMI)/2015-16 experiment/task1/DataBuffer/trialdata/\"\u001b[0m\u001b[0;34m\u001b[0m\u001b[0m\n\u001b[1;32m      6\u001b[0m \u001b[0mpath1\u001b[0m \u001b[0;34m=\u001b[0m \u001b[0;34m\"/Users/hwab/Dropbox (HHMI)/2015-16 experiment/task2/DataBuffer/trialdata\"\u001b[0m\u001b[0;34m\u001b[0m\u001b[0m\n",
      "\u001b[0;31mTypeError\u001b[0m: unsupported operand type(s) for %: 'NoneType' and 'int'"
     ]
    }
   ],
   "source": [
    "shift = 0;\n",
    "paths = []\n",
    "# for k in range(1,3):\n",
    "#     paths.append(\"/Users/hwab/Dropbox (HHMI)/2015-16 experiment/task%/DataBuffer/trialdata/\") % (k)\n",
    "path = \"/Users/hwab/Dropbox (HHMI)/2015-16 experiment/task1/DataBuffer/trialdata/\"\n",
    "path1 = \"/Users/hwab/Dropbox (HHMI)/2015-16 experiment/task2/DataBuffer/trialdata\"\n",
    "path2 = \"/Users/hwab/Dropbox (HHMI)/2015-16 experiment/task3/DataBuffer/trialdata\"\n",
    "n_files = len(os.walk(path).next()[2])-1\n",
    "allfiles = glob.glob(path + \"/*.csv\")\n",
    "alldata = pd.DataFrame()\n",
    "alldata2 = pd.DataFrame()\n",
    "alldata3 = pd.DataFrame()\n",
    "for files in allfiles:\n",
    "    df = pd.read_csv(files, skiprows=1)\n",
    "    alldata = alldata.append(df, ignore_index=True)\n",
    "ad = np.array(alldata)\n",
    "dsize = len(alldata)\n",
    "dv = dsize/5\n",
    "dv1 = dsize/10\n",
    "# =====================================================================================================\n",
    "# =====================================================================================================\n",
    "#        TASK1\n",
    "#----ALLSUBJECTS---------------------------------------------------------------------------------------\n",
    "# #equal reach dist\n",
    "r01e = 0\n",
    "r025e = 0\n",
    "r05e = 0\n",
    "r075e = 0\n",
    "r09e = 0\n",
    "p01e = r01e/dv1\n",
    "p025e = r025e/dv1\n",
    "p05e = r05e/dv1\n",
    "p075e = r075e/dv1\n",
    "p09e = r09e/dv1\n",
    "#left greater reach dist\n",
    "r01u = 0\n",
    "r025u = 0\n",
    "r05u = 0\n",
    "r075u = 0\n",
    "r09u = 0\n",
    "p01u = r01u/dv1\n",
    "p025u = r025u/dv1\n",
    "p05u = r05u/dv1\n",
    "p075u = r075u/dv1\n",
    "p09u = r09u/dv1\n",
    "#ALL\n",
    "r01 = r01e+r01u\n",
    "r025 = r025e+r025u\n",
    "r05 = r05e+r05u\n",
    "r075 = r075e+r075u\n",
    "r09 = r09e+r09u\n",
    "p01 = r01/dv\n",
    "p025 = r025/dv\n",
    "p05 = r05/dv\n",
    "p075 = r075/dv\n",
    "p09 = r09/dv\n",
    "# =====================================================================================================\n",
    "# #INDIVIDUAL SUBJECTS\n",
    "r_01 = []\n",
    "r_025 = []\n",
    "r_05 = []\n",
    "r_075 = []\n",
    "r_09 =[]\n",
    "\n",
    "r_01e = []\n",
    "r_025e = []\n",
    "r_05e = []\n",
    "r_075e = []\n",
    "r_09e =[]\n",
    "r_01u = []\n",
    "r_025u = []\n",
    "r_05u = []\n",
    "r_075u = []\n",
    "r_09u =[]\n",
    "# =====================================================================================================\n",
    "# =====================================================================================================\n",
    "#        TASK2"
   ]
  },
  {
   "cell_type": "code",
   "execution_count": null,
   "metadata": {
    "collapsed": true
   },
   "outputs": [],
   "source": [
    "print(\"Task 1\")\n",
    "print(os.listdir(path1))"
   ]
  },
  {
   "cell_type": "code",
   "execution_count": null,
   "metadata": {
    "collapsed": false
   },
   "outputs": [],
   "source": [
    "# =====================================================================================================\n",
    "# data loading\n",
    "# =====================================================================================================\n",
    "for i in range(len(ad)):\n",
    "    if i>= 500*shift and i<(shift+1)*500:\n",
    "        if ad[i,5]==1 and ad[i,6] == 1 or ad[i,5]==0 and ad[i,6]==2:\n",
    "            correct = True\n",
    "        else:\n",
    "            correct = False\n",
    "\n",
    "        if ad[i,3]== 1:\n",
    "            if ad[i,4]==0.1 and correct == True:\n",
    "                r01e = r01e + 1\n",
    "            if ad[i,4]==0.25 and correct == True:\n",
    "                r025e = r025e + 1\n",
    "            if ad[i,4]==0.5 and correct == True:\n",
    "                r05e = r05e + 1\n",
    "            if ad[i,4]==0.75 and correct == True:\n",
    "                r075e = r075e + 1\n",
    "            if ad[i,4]==0.9 and correct == True:\n",
    "                r09e = r09e + 1\n",
    "        else:\n",
    "            if ad[i,4]==0.1 and correct == True:\n",
    "                r01u = r01u + 1\n",
    "            if ad[i,4]==0.25 and correct == True:\n",
    "                r025u = r025u + 1\n",
    "            if ad[i,4]==0.5 and correct == True:\n",
    "                r05u = r05u + 1\n",
    "            if ad[i,4]==0.75 and correct == True:\n",
    "                r075u = r075u + 1\n",
    "            if ad[i,4]==0.9 and correct == True:\n",
    "                r09u = r09u + 1\n",
    "    if i==(shift+1)*500-1:\n",
    "        r_01.append(r01)\n",
    "        r_025.append(r025)\n",
    "        r_05.append(r05)\n",
    "        r_075.append(r075)\n",
    "        r_09.append(r09)\n",
    "        r_01e.append(r01e)\n",
    "        r_025e.append(r025e)\n",
    "        r_05e.append(r05e)\n",
    "        r_075e.append(r075e)\n",
    "        r_09e.append(r09e)\n",
    "        r_01u.append(r01u)\n",
    "        r_025u.append(r025u)\n",
    "        r_05u.append(r05u)\n",
    "        r_075u.append(r075u)\n",
    "        r_09u.append(r09u)\n",
    "print(i)\n",
    "print(r09e)\n",
    "r_09e"
   ]
  },
  {
   "cell_type": "code",
   "execution_count": null,
   "metadata": {
    "collapsed": true
   },
   "outputs": [],
   "source": [
    "# =====================================================================================================\n",
    "#operations, all data\n",
    "# =====================================================================================================\n"
   ]
  },
  {
   "cell_type": "code",
   "execution_count": null,
   "metadata": {
    "collapsed": false
   },
   "outputs": [],
   "source": [
    "# =====================================================================================================\n",
    "#visualisation\n",
    "# =====================================================================================================\n"
   ]
  },
  {
   "cell_type": "code",
   "execution_count": null,
   "metadata": {
    "collapsed": false
   },
   "outputs": [],
   "source": [
    "# d =np.loadtxt(open(\"/Users/hwab/Dropbox (HHMI)/2015-16 experiment/task1_variant_7/DataBuffer/trialdata/bailey hwav2016_02_12_17_7.csv\"), delimiter=\",\", skiprows=2)\n",
    "d =pd.read_csv(\"/Users/hwab/Dropbox (HHMI)/2015-16 experiment/task1_variant_7/DataBuffer/trialdata/bailey hwav2016_02_12_17_7.csv\", skiprows=1)\n",
    "\n",
    "\n",
    "\n",
    "\n"
   ]
  },
  {
   "cell_type": "code",
   "execution_count": null,
   "metadata": {
    "collapsed": false,
    "scrolled": false
   },
   "outputs": [],
   "source": [
    "type(d)"
   ]
  },
  {
   "cell_type": "code",
   "execution_count": null,
   "metadata": {
    "collapsed": false
   },
   "outputs": [],
   "source": [
    "d \n"
   ]
  },
  {
   "cell_type": "code",
   "execution_count": null,
   "metadata": {
    "collapsed": false
   },
   "outputs": [],
   "source": [
    "# d.std()\n",
    "# d.mean()\n",
    "d[(np.array([0,5]),)]\n"
   ]
  },
  {
   "cell_type": "code",
   "execution_count": null,
   "metadata": {
    "collapsed": true
   },
   "outputs": [],
   "source": [
    "s = \"/Users/hwab/Dropbox\\ \\(HHMI\\)/2015-16\\ experiment/task1_variant_7/DataBuffer/trialdata/bailey\\ hwav2016_02_12_17_7.csv\""
   ]
  },
  {
   "cell_type": "code",
   "execution_count": null,
   "metadata": {
    "collapsed": false
   },
   "outputs": [],
   "source": [
    "s = s.replace(\"\\\\\", \"\")"
   ]
  },
  {
   "cell_type": "code",
   "execution_count": null,
   "metadata": {
    "collapsed": false
   },
   "outputs": [],
   "source": [
    "print(s)"
   ]
  },
  {
   "cell_type": "code",
   "execution_count": null,
   "metadata": {
    "collapsed": true
   },
   "outputs": [],
   "source": []
  }
 ],
 "metadata": {
  "kernelspec": {
   "display_name": "Python 2",
   "language": "python",
   "name": "python2"
  },
  "language_info": {
   "codemirror_mode": {
    "name": "ipython",
    "version": 2
   },
   "file_extension": ".py",
   "mimetype": "text/x-python",
   "name": "python",
   "nbconvert_exporter": "python",
   "pygments_lexer": "ipython2",
   "version": "2.7.11"
  }
 },
 "nbformat": 4,
 "nbformat_minor": 0
}
