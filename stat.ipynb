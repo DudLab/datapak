{
 "cells": [
  {
   "cell_type": "code",
   "execution_count": null,
   "metadata": {
    "collapsed": false
   },
   "outputs": [],
   "source": [
    "%matplotlib notebook"
   ]
  },
  {
   "cell_type": "code",
   "execution_count": 13,
   "metadata": {
    "collapsed": false
   },
   "outputs": [
    {
     "name": "stdout",
     "output_type": "stream",
     "text": [
      "499\n",
      "44\n"
     ]
    }
   ],
   "source": [
    "import numpy as np\n",
    "import pandas as pd\n",
    "import os as os\n",
    "import glob\n",
    "shift = 0;\n",
    "path = \"/Users/hwab/Dropbox (HHMI)/2015-16 experiment/task1_variant_7/DataBuffer/trialdata/\"\n",
    "path2 = \"/Users/hwab/Dropbox (HHMI)/2015-16 experiment/task2_V1/DataBuffer/trialdata\"\n",
    "path3 = \"/Users/hwab/Dropbox (HHMI)/2015-16 experiment/task3/DataBuffer/trialdata\"\n",
    "\n",
    "n_files = len(os.walk(path).next()[2])-1\n",
    "\n",
    "allfiles = glob.glob(path + \"/*.csv\")\n",
    "alldata = pd.DataFrame()\n",
    "alldata2 = pd.DataFrame()\n",
    "alldata3 = pd.DataFrame()\n",
    "for files in allfiles:\n",
    "    df = pd.read_csv(files, skiprows=1)\n",
    "    alldata = alldata.append(df, ignore_index=True)\n",
    "ad = np.array(alldata)\n",
    "dsize = len(alldata)\n",
    "dv = dsize/5\n",
    "dv1 = dsize/10\n",
    "#============================================================================ \n",
    "#----ALLSUBJECTS------------------------------------\n",
    "# #ALL\n",
    "r01 = 0\n",
    "r025 = 0\n",
    "r05 = 0\n",
    "r075 = 0\n",
    "r09 = 0\n",
    "p01 = r01/dv\n",
    "p025 = r025/dv\n",
    "p05 = r05/dv\n",
    "p075 = r075/dv\n",
    "p09 = r09/dv\n",
    "# #equal reach dist\n",
    "r01e = 0\n",
    "r025e = 0\n",
    "r05e = 0\n",
    "r075e = 0\n",
    "r09e = 0\n",
    "p01e = r01e/dv1\n",
    "p025e = r025e/dv1\n",
    "p05e = r05e/dv1\n",
    "p075e = r075e/dv1\n",
    "p09e = r09e/dv1\n",
    "#left greater reach dist\n",
    "r01u = 0\n",
    "r025u = 0\n",
    "r05u = 0\n",
    "r075u = 0\n",
    "r09u = 0\n",
    "p01u = r01u/dv1\n",
    "p025u = r025u/dv1\n",
    "p05u = r05u/dv1\n",
    "p075u = r075u/dv1\n",
    "p09u = r09u/dv1\n",
    "# # ==================================================================================================================\n",
    "# #INDIVIDUAL SUBJECTS\n",
    "r_01 = []\n",
    "r_025 = []\n",
    "r_05 = []\n",
    "r_075 = []\n",
    "r_09 =[]\n",
    "r_01e = []\n",
    "r_025e = []\n",
    "r_05e = []\n",
    "r_075e = []\n",
    "r_09e =[]\n",
    "r_01u = []\n",
    "r_025u = []\n",
    "r_05u = []\n",
    "r_075u = []\n",
    "r_09u =[]\n",
    "#============================================================================\n",
    "# alldata\n",
    "for i in range(len(ad)):\n",
    "        if i % 500==0:\n",
    "            \n",
    "            shift+1;\n",
    "        if i>= 500*shift and i<(shift+1)*500:\n",
    "            if ad[i,5]==1 and ad[i,6] == 1 or ad[i,5]==0 and ad[i,6]==2:\n",
    "                correct = True\n",
    "            else:\n",
    "                correct = False\n",
    "\n",
    "            if ad[i,3]== 1:\n",
    "                if ad[i,4]==0.1 and correct == True:\n",
    "                    r01e = r01e + 1\n",
    "                if ad[i,4]==0.25 and correct == True:\n",
    "                    r025e = r025e + 1\n",
    "                if ad[i,4]==0.5 and correct == True:\n",
    "                    r05e = r05e + 1\n",
    "                if ad[i,4]==0.75 and correct == True:\n",
    "                    r075e = r075e + 1\n",
    "                if ad[i,4]==0.9 and correct == True:\n",
    "                    r09e = r09e + 1\n",
    "            else:\n",
    "                if ad[i,4]==0.1 and correct == True:\n",
    "                    r01u = r01u + 1\n",
    "                if ad[i,4]==0.25 and correct == True:\n",
    "                    r025u = r025u + 1\n",
    "                if ad[i,4]==0.5 and correct == True:\n",
    "                    r05u = r05u + 1\n",
    "                if ad[i,4]==0.75 and correct == True:\n",
    "                    r075u = r075u + 1\n",
    "                if ad[i,4]==0.9 and correct == True:\n",
    "                    r09u = r09u + 1\n",
    "print(i)\n",
    "print(r09e)"
   ]
  },
  {
   "cell_type": "code",
   "execution_count": null,
   "metadata": {
    "collapsed": false
   },
   "outputs": [],
   "source": []
  },
  {
   "cell_type": "code",
   "execution_count": null,
   "metadata": {
    "collapsed": true
   },
   "outputs": [],
   "source": [
    "class subjects:\n",
    "    def __init__(self, rprob):\n",
    "        self.rprob = rprob\n",
    "        "
   ]
  },
  {
   "cell_type": "code",
   "execution_count": null,
   "metadata": {
    "collapsed": false
   },
   "outputs": [],
   "source": [
    "x = np.random.random((100, 101, 102))\n",
    "\n",
    "print(x.shape)\n",
    "\n",
    "x.reshape(10, 10, 101, 102)"
   ]
  },
  {
   "cell_type": "code",
   "execution_count": null,
   "metadata": {
    "collapsed": false
   },
   "outputs": [],
   "source": [
    "# d =np.loadtxt(open(\"/Users/hwab/Dropbox (HHMI)/2015-16 experiment/task1_variant_7/DataBuffer/trialdata/bailey hwav2016_02_12_17_7.csv\"), delimiter=\",\", skiprows=2)\n",
    "d =pd.read_csv(\"/Users/hwab/Dropbox (HHMI)/2015-16 experiment/task1_variant_7/DataBuffer/trialdata/bailey hwav2016_02_12_17_7.csv\", skiprows=1)\n",
    "\n",
    "\n",
    "\n",
    "\n"
   ]
  },
  {
   "cell_type": "code",
   "execution_count": null,
   "metadata": {
    "collapsed": false,
    "scrolled": false
   },
   "outputs": [],
   "source": [
    "type(d)"
   ]
  },
  {
   "cell_type": "code",
   "execution_count": null,
   "metadata": {
    "collapsed": false
   },
   "outputs": [],
   "source": [
    "d \n"
   ]
  },
  {
   "cell_type": "code",
   "execution_count": null,
   "metadata": {
    "collapsed": false
   },
   "outputs": [],
   "source": [
    "# d.std()\n",
    "# d.mean()\n",
    "d[(np.array([0,5]),)]\n"
   ]
  },
  {
   "cell_type": "code",
   "execution_count": null,
   "metadata": {
    "collapsed": true
   },
   "outputs": [],
   "source": [
    "s = \"/Users/hwab/Dropbox\\ \\(HHMI\\)/2015-16\\ experiment/task1_variant_7/DataBuffer/trialdata/bailey\\ hwav2016_02_12_17_7.csv\""
   ]
  },
  {
   "cell_type": "code",
   "execution_count": null,
   "metadata": {
    "collapsed": false
   },
   "outputs": [],
   "source": [
    "s = s.replace(\"\\\\\", \"\")"
   ]
  },
  {
   "cell_type": "code",
   "execution_count": null,
   "metadata": {
    "collapsed": false
   },
   "outputs": [],
   "source": [
    "print(s)"
   ]
  },
  {
   "cell_type": "code",
   "execution_count": null,
   "metadata": {
    "collapsed": true
   },
   "outputs": [],
   "source": []
  }
 ],
 "metadata": {
  "kernelspec": {
   "display_name": "Python 2",
   "language": "python",
   "name": "python2"
  },
  "language_info": {
   "codemirror_mode": {
    "name": "ipython",
    "version": 2
   },
   "file_extension": ".py",
   "mimetype": "text/x-python",
   "name": "python",
   "nbconvert_exporter": "python",
   "pygments_lexer": "ipython2",
   "version": "2.7.11"
  }
 },
 "nbformat": 4,
 "nbformat_minor": 0
}
