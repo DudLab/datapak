{
 "cells": [
  {
   "cell_type": "code",
   "execution_count": 1,
   "metadata": {
    "collapsed": false
   },
   "outputs": [],
   "source": [
    "%matplotlib notebook"
   ]
  },
  {
   "cell_type": "code",
   "execution_count": 2,
   "metadata": {
    "collapsed": false
   },
   "outputs": [],
   "source": [
    "import matplotlib as plot\n",
    "import numpy as np\n",
    "import pandas as pd\n",
    "import os as os\n",
    "import glob\n"
   ]
  },
  {
   "cell_type": "code",
   "execution_count": 3,
   "metadata": {
    "collapsed": false
   },
   "outputs": [],
   "source": [
    "shift = 0;\n",
    "paths = []\n",
    "# for k in range(1,3):\n",
    "#     paths.append(\"/Users/hwab/Dropbox (HHMI)/2015-16 experiment/task%/DataBuffer/trialdata/\") % (k)\n",
    "path = \"/Users/hwab/Dropbox (HHMI)/2015-16 experiment/task1/DataBuffer/trialdata/\"\n",
    "path1 = \"/Users/hwab/Dropbox (HHMI)/2015-16 experiment/task2/DataBuffer/trialdata\"\n",
    "path2 = \"/Users/hwab/Dropbox (HHMI)/2015-16 experiment/task3/DataBuffer/trialdata\"\n",
    "n_files = len(os.walk(path).next()[2])-1\n",
    "allfiles = glob.glob(path + \"/*.csv\")\n",
    "alldata = pd.DataFrame()\n",
    "alldata2 = pd.DataFrame()\n",
    "alldata3 = pd.DataFrame()\n",
    "for files in allfiles:\n",
    "    df = pd.read_csv(files, skiprows=1)\n",
    "    alldata = alldata.append(df, ignore_index=True)\n",
    "ad = np.array(alldata)\n",
    "dsize = len(alldata)\n",
    "dv = dsize/5\n",
    "dv1 = dsize/10\n",
    "# =====================================================================================================\n",
    "# =====================================================================================================\n",
    "#        TASK1\n",
    "#----ALLSUBJECTS---------------------------------------------------------------------------------------\n",
    "# #equal reach dist\n",
    "r01e = 0\n",
    "r025e = 0\n",
    "r05e = 0\n",
    "r075e = 0\n",
    "r09e = 0\n",
    "p01e = r01e/dv1\n",
    "p025e = r025e/dv1\n",
    "p05e = r05e/dv1\n",
    "p075e = r075e/dv1\n",
    "p09e = r09e/dv1\n",
    "#left greater reach dist\n",
    "r01u = 0\n",
    "r025u = 0\n",
    "r05u = 0\n",
    "r075u = 0\n",
    "r09u = 0\n",
    "p01u = r01u/dv1\n",
    "p025u = r025u/dv1\n",
    "p05u = r05u/dv1\n",
    "p075u = r075u/dv1\n",
    "p09u = r09u/dv1\n",
    "#ALL\n",
    "r01 = r01e+r01u\n",
    "r025 = r025e+r025u\n",
    "r05 = r05e+r05u\n",
    "r075 = r075e+r075u\n",
    "r09 = r09e+r09u\n",
    "p01 = r01/dv\n",
    "p025 = r025/dv\n",
    "p05 = r05/dv\n",
    "p075 = r075/dv\n",
    "p09 = r09/dv\n",
    "# =====================================================================================================\n",
    "# #INDIVIDUAL SUBJECTS\n",
    "r_01 = []\n",
    "r_025 = []\n",
    "r_05 = []\n",
    "r_075 = []\n",
    "r_09 =[]\n",
    "\n",
    "r_01e = []\n",
    "r_025e = []\n",
    "r_05e = []\n",
    "r_075e = []\n",
    "r_09e =[]\n",
    "r_01u = []\n",
    "r_025u = []\n",
    "r_05u = []\n",
    "r_075u = []\n",
    "r_09u =[]\n",
    "\n",
    "p_01 = []\n",
    "p_025 = []\n",
    "p_05 = []\n",
    "p_075 = []\n",
    "p_09 =[]\n",
    "\n",
    "p_01e = []\n",
    "p_025e = []\n",
    "p_05e = []\n",
    "p_075e = []\n",
    "p_09e =[]\n",
    "p_01u = []\n",
    "p_025u = []\n",
    "p_05u = []\n",
    "p_075u = []\n",
    "p_09u =[]\n",
    "# =====================================================================================================\n",
    "# =====================================================================================================\n",
    "#        TASK2"
   ]
  },
  {
   "cell_type": "code",
   "execution_count": 4,
   "metadata": {
    "collapsed": false
   },
   "outputs": [
    {
     "name": "stdout",
     "output_type": "stream",
     "text": [
      "Task 1\n",
      "['.DS_Store', 'Bailey Hwav2016_03_06_13_34.csv']\n"
     ]
    }
   ],
   "source": [
    "print(\"Task 1\")\n",
    "print(os.listdir(path1))"
   ]
  },
  {
   "cell_type": "code",
   "execution_count": 5,
   "metadata": {
    "collapsed": false
   },
   "outputs": [
    {
     "name": "stdout",
     "output_type": "stream",
     "text": [
      "499\n",
      "44\n"
     ]
    },
    {
     "data": {
      "text/plain": [
       "[44]"
      ]
     },
     "execution_count": 5,
     "metadata": {},
     "output_type": "execute_result"
    }
   ],
   "source": [
    "# =====================================================================================================\n",
    "# data loading\n",
    "# =====================================================================================================\n",
    "for i in range(len(ad)):\n",
    "    if i>= 500*shift and i<(shift+1)*500:\n",
    "        if ad[i,5]==1 and ad[i,6] == 1 or ad[i,5]==0 and ad[i,6]==2:\n",
    "            correct = True\n",
    "        else:\n",
    "            correct = False\n",
    "\n",
    "        if ad[i,3]== 1:\n",
    "            if ad[i,4]==0.1 and correct == True:\n",
    "                r01e = r01e + 1\n",
    "            if ad[i,4]==0.25 and correct == True:\n",
    "                r025e = r025e + 1\n",
    "            if ad[i,4]==0.5 and correct == True:\n",
    "                r05e = r05e + 1\n",
    "            if ad[i,4]==0.75 and correct == True:\n",
    "                r075e = r075e + 1\n",
    "            if ad[i,4]==0.9 and correct == True:\n",
    "                r09e = r09e + 1\n",
    "        else:\n",
    "            if ad[i,4]==0.1 and correct == True:\n",
    "                r01u = r01u + 1\n",
    "            if ad[i,4]==0.25 and correct == True:\n",
    "                r025u = r025u + 1\n",
    "            if ad[i,4]==0.5 and correct == True:\n",
    "                r05u = r05u + 1\n",
    "            if ad[i,4]==0.75 and correct == True:\n",
    "                r075u = r075u + 1\n",
    "            if ad[i,4]==0.9 and correct == True:\n",
    "                r09u = r09u + 1\n",
    "    if i==(shift+1)*500-1:\n",
    "        r_01.append(r01)\n",
    "        r_025.append(r025)\n",
    "        r_05.append(r05)\n",
    "        r_075.append(r075)\n",
    "        r_09.append(r09)\n",
    "        r_01e.append(r01e)\n",
    "        r_025e.append(r025e)\n",
    "        r_05e.append(r05e)\n",
    "        r_075e.append(r075e)\n",
    "        r_09e.append(r09e)\n",
    "        r_01u.append(r01u)\n",
    "        r_025u.append(r025u)\n",
    "        r_05u.append(r05u)\n",
    "        r_075u.append(r075u)\n",
    "        r_09u.append(r09u)\n",
    "        \n",
    "        p_01.append(p01)\n",
    "        p_025.append(p025)\n",
    "        p_05.append(p05)\n",
    "        p_075.append(p075)\n",
    "        p_09.append(p09)\n",
    "        p_01e.append(p01e)\n",
    "        p_025e.append(p025e)\n",
    "        p_05e.append(p05e)\n",
    "        p_075e.append(p075e)\n",
    "        p_09e.append(p09e)\n",
    "        p_01u.append(p01u)\n",
    "        p_025u.append(p025u)\n",
    "        p_05u.append(p05u)\n",
    "        p_075u.append(p075u)\n",
    "        p_09u.append(p09u)        \n",
    "print(i)\n",
    "print(r09e)\n",
    "r_09e"
   ]
  },
  {
   "cell_type": "code",
   "execution_count": 6,
   "metadata": {
    "collapsed": false
   },
   "outputs": [
    {
     "data": {
      "text/plain": [
       "0.0"
      ]
     },
     "execution_count": 6,
     "metadata": {},
     "output_type": "execute_result"
    }
   ],
   "source": [
    "# =====================================================================================================\n",
    "#operations, all data\n",
    "# =====================================================================================================\n",
    "# Task1\n",
    "#======================================================================================================\n",
    "# all subjects probabilities, combined, equal reach dist, left skewed\n",
    "pr01 = np.sum(r_01)/dv\n",
    "pr025 = np.sum(r_025)/dv\n",
    "pr05 = np.sum(r_05)/dv\n",
    "pr075 = np.sum(r_075)/dv\n",
    "pr09 = np.sum(r_09)/dv\n",
    "pr01e = np.sum(r_01e)/dv1\n",
    "pr025e = np.sum(r_025e)/dv1\n",
    "pr05e = np.sum(r_05e)/dv1\n",
    "pr075e = np.sum(r_075e)/dv1\n",
    "pr09e = np.sum(r_09e)/dv1\n",
    "pr01u = np.sum(r_01u)/dv1\n",
    "pr025u = np.sum(r_025u)/dv1\n",
    "pr05u = np.sum(r_05u)/dv1\n",
    "pr075u = np.sum(r_075u)/dv1\n",
    "pr09u = np.sum(r_09u)/dv1\n",
    "#for individual subjects\n",
    "\n",
    "# Standard deviations\n",
    "np.std(p_01)\n",
    "np.std(p_025)\n",
    "np.std(p_05)\n",
    "np.std(p_075)\n",
    "np.std(p_09)\n",
    "np.std(p_01e)\n",
    "np.std(p_025e)\n",
    "np.std(p_05e)\n",
    "np.std(p_075e)\n",
    "np.std(p_09e)\n",
    "np.std(p_01u)\n",
    "np.std(p_025u)\n",
    "np.std(p_05u)\n",
    "np.std(p_075u)\n",
    "np.std(p_09u)\n",
    "\n",
    "# Means\n",
    "np.mean(p_01)\n",
    "np.mean(p_025)\n",
    "np.mean(p_05)\n",
    "np.mean(p_075)\n",
    "np.mean(p_09)\n",
    "np.mean(p_01e)\n",
    "np.mean(p_025e)\n",
    "np.mean(p_05e)\n",
    "np.mean(p_075e)\n",
    "np.mean(p_09e)\n",
    "np.mean(p_01u)\n",
    "np.mean(p_025u)\n",
    "np.mean(p_05u)\n",
    "np.mean(p_075u)\n",
    "np.mean(p_09u)"
   ]
  },
  {
   "cell_type": "code",
   "execution_count": null,
   "metadata": {
    "collapsed": true
   },
   "outputs": [],
   "source": []
  },
  {
   "cell_type": "code",
   "execution_count": null,
   "metadata": {
    "collapsed": true
   },
   "outputs": [],
   "source": []
  },
  {
   "cell_type": "code",
   "execution_count": null,
   "metadata": {
    "collapsed": false
   },
   "outputs": [],
   "source": [
    "# =====================================================================================================\n",
    "#visualisation\n",
    "# =====================================================================================================\n"
   ]
  },
  {
   "cell_type": "code",
   "execution_count": null,
   "metadata": {
    "collapsed": false
   },
   "outputs": [],
   "source": [
    "# d =np.loadtxt(open(\"/Users/hwab/Dropbox (HHMI)/2015-16 experiment/task1_variant_7/DataBuffer/trialdata/bailey hwav2016_02_12_17_7.csv\"), delimiter=\",\", skiprows=2)\n",
    "d =pd.read_csv(\"/Users/hwab/Dropbox (HHMI)/2015-16 experiment/task1_variant_7/DataBuffer/trialdata/bailey hwav2016_02_12_17_7.csv\", skiprows=1)\n",
    "\n",
    "\n",
    "\n",
    "\n"
   ]
  },
  {
   "cell_type": "code",
   "execution_count": null,
   "metadata": {
    "collapsed": false,
    "scrolled": false
   },
   "outputs": [],
   "source": [
    "type(d)"
   ]
  },
  {
   "cell_type": "code",
   "execution_count": null,
   "metadata": {
    "collapsed": false
   },
   "outputs": [],
   "source": [
    "d \n"
   ]
  },
  {
   "cell_type": "code",
   "execution_count": null,
   "metadata": {
    "collapsed": false
   },
   "outputs": [],
   "source": [
    "# d.std()\n",
    "# d.mean()\n",
    "d[(np.array([0,5]),)]\n"
   ]
  },
  {
   "cell_type": "code",
   "execution_count": null,
   "metadata": {
    "collapsed": true
   },
   "outputs": [],
   "source": [
    "s = \"/Users/hwab/Dropbox\\ \\(HHMI\\)/2015-16\\ experiment/task1_variant_7/DataBuffer/trialdata/bailey\\ hwav2016_02_12_17_7.csv\""
   ]
  },
  {
   "cell_type": "code",
   "execution_count": null,
   "metadata": {
    "collapsed": false
   },
   "outputs": [],
   "source": [
    "s = s.replace(\"\\\\\", \"\")"
   ]
  },
  {
   "cell_type": "code",
   "execution_count": null,
   "metadata": {
    "collapsed": false
   },
   "outputs": [],
   "source": [
    "print(s)"
   ]
  },
  {
   "cell_type": "code",
   "execution_count": null,
   "metadata": {
    "collapsed": true
   },
   "outputs": [],
   "source": []
  }
 ],
 "metadata": {
  "kernelspec": {
   "display_name": "Python 2",
   "language": "python",
   "name": "python2"
  },
  "language_info": {
   "codemirror_mode": {
    "name": "ipython",
    "version": 2
   },
   "file_extension": ".py",
   "mimetype": "text/x-python",
   "name": "python",
   "nbconvert_exporter": "python",
   "pygments_lexer": "ipython2",
   "version": "2.7.11"
  }
 },
 "nbformat": 4,
 "nbformat_minor": 0
}
